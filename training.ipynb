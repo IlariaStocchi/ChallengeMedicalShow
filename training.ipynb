{
 "cells": [
  {
   "cell_type": "markdown",
   "metadata": {},
   "source": [
    "# Challenge Esame IA 2020 - Notebook  di Training"
   ]
  },
  {
   "cell_type": "code",
   "execution_count": 1,
   "metadata": {},
   "outputs": [
    {
     "name": "stdout",
     "output_type": "stream",
     "text": [
      "Requirement already satisfied: appdirs==1.4.4 in /home/ilaria/.local/lib/python3.7/site-packages (from -r requirements.txt (line 1)) (1.4.4)\n",
      "Requirement already satisfied: attrs==19.3.0 in /home/ilaria/anaconda3/lib/python3.7/site-packages (from -r requirements.txt (line 2)) (19.3.0)\n",
      "Requirement already satisfied: backcall==0.1.0 in /home/ilaria/anaconda3/lib/python3.7/site-packages (from -r requirements.txt (line 3)) (0.1.0)\n",
      "Requirement already satisfied: bleach==3.1.4 in /home/ilaria/anaconda3/lib/python3.7/site-packages (from -r requirements.txt (line 4)) (3.1.4)\n",
      "Requirement already satisfied: certifi==2020.4.5.1 in /home/ilaria/anaconda3/lib/python3.7/site-packages (from -r requirements.txt (line 5)) (2020.4.5.1)\n",
      "Requirement already satisfied: decorator==4.4.2 in /home/ilaria/anaconda3/lib/python3.7/site-packages (from -r requirements.txt (line 6)) (4.4.2)\n",
      "Requirement already satisfied: defusedxml==0.6.0 in /home/ilaria/anaconda3/lib/python3.7/site-packages (from -r requirements.txt (line 7)) (0.6.0)\n",
      "Requirement already satisfied: distlib==0.3.0 in /home/ilaria/.local/lib/python3.7/site-packages (from -r requirements.txt (line 8)) (0.3.0)\n",
      "Requirement already satisfied: entrypoints==0.3 in /home/ilaria/anaconda3/lib/python3.7/site-packages (from -r requirements.txt (line 9)) (0.3)\n",
      "Requirement already satisfied: importlib-metadata==1.6.0 in /home/ilaria/anaconda3/lib/python3.7/site-packages (from -r requirements.txt (line 10)) (1.6.0)\n",
      "Requirement already satisfied: ipykernel==5.1.4 in /home/ilaria/anaconda3/lib/python3.7/site-packages (from -r requirements.txt (line 11)) (5.1.4)\n",
      "Requirement already satisfied: ipython==7.13.0 in /home/ilaria/anaconda3/lib/python3.7/site-packages (from -r requirements.txt (line 12)) (7.13.0)\n",
      "Requirement already satisfied: ipython-genutils==0.2.0 in /home/ilaria/anaconda3/lib/python3.7/site-packages (from -r requirements.txt (line 13)) (0.2.0)\n",
      "Requirement already satisfied: jedi==0.17.0 in /home/ilaria/anaconda3/lib/python3.7/site-packages (from -r requirements.txt (line 14)) (0.17.0)\n",
      "Requirement already satisfied: Jinja2==2.11.2 in /home/ilaria/anaconda3/lib/python3.7/site-packages (from -r requirements.txt (line 15)) (2.11.2)\n",
      "Requirement already satisfied: jsonschema==3.2.0 in /home/ilaria/anaconda3/lib/python3.7/site-packages (from -r requirements.txt (line 16)) (3.2.0)\n",
      "Requirement already satisfied: jupyter-client==6.1.3 in /home/ilaria/anaconda3/lib/python3.7/site-packages (from -r requirements.txt (line 17)) (6.1.3)\n",
      "Requirement already satisfied: jupyter-core==4.6.3 in /home/ilaria/anaconda3/lib/python3.7/site-packages (from -r requirements.txt (line 18)) (4.6.3)\n",
      "Requirement already satisfied: MarkupSafe==1.1.1 in /home/ilaria/anaconda3/lib/python3.7/site-packages (from -r requirements.txt (line 19)) (1.1.1)\n",
      "Requirement already satisfied: mistune==0.8.4 in /home/ilaria/anaconda3/lib/python3.7/site-packages (from -r requirements.txt (line 20)) (0.8.4)\n",
      "Requirement already satisfied: nbconvert==5.6.1 in /home/ilaria/anaconda3/lib/python3.7/site-packages (from -r requirements.txt (line 21)) (5.6.1)\n",
      "Requirement already satisfied: nbformat==5.0.6 in /home/ilaria/anaconda3/lib/python3.7/site-packages (from -r requirements.txt (line 22)) (5.0.6)\n",
      "Requirement already satisfied: notebook==6.0.3 in /home/ilaria/anaconda3/lib/python3.7/site-packages (from -r requirements.txt (line 23)) (6.0.3)\n",
      "Requirement already satisfied: pandocfilters==1.4.2 in /home/ilaria/anaconda3/lib/python3.7/site-packages (from -r requirements.txt (line 24)) (1.4.2)\n",
      "Requirement already satisfied: parso==0.7.0 in /home/ilaria/anaconda3/lib/python3.7/site-packages (from -r requirements.txt (line 25)) (0.7.0)\n",
      "Requirement already satisfied: pexpect==4.8.0 in /home/ilaria/anaconda3/lib/python3.7/site-packages (from -r requirements.txt (line 26)) (4.8.0)\n",
      "Requirement already satisfied: pickleshare==0.7.5 in /home/ilaria/anaconda3/lib/python3.7/site-packages (from -r requirements.txt (line 27)) (0.7.5)\n",
      "Requirement already satisfied: pipenv==2020.6.2 in /home/ilaria/.local/lib/python3.7/site-packages (from -r requirements.txt (line 28)) (2020.6.2)\n",
      "Requirement already satisfied: prometheus-client==0.7.1 in /home/ilaria/anaconda3/lib/python3.7/site-packages (from -r requirements.txt (line 29)) (0.7.1)\n",
      "Requirement already satisfied: prompt-toolkit==3.0.5 in /home/ilaria/anaconda3/lib/python3.7/site-packages (from -r requirements.txt (line 30)) (3.0.5)\n",
      "Requirement already satisfied: ptyprocess==0.6.0 in /home/ilaria/anaconda3/lib/python3.7/site-packages (from -r requirements.txt (line 31)) (0.6.0)\n",
      "Requirement already satisfied: Pygments==2.6.1 in /home/ilaria/anaconda3/lib/python3.7/site-packages (from -r requirements.txt (line 32)) (2.6.1)\n",
      "Requirement already satisfied: pyrsistent==0.16.0 in /home/ilaria/anaconda3/lib/python3.7/site-packages (from -r requirements.txt (line 33)) (0.16.0)\n",
      "Requirement already satisfied: python-dateutil==2.8.1 in /home/ilaria/anaconda3/lib/python3.7/site-packages (from -r requirements.txt (line 34)) (2.8.1)\n",
      "Requirement already satisfied: pyzmq==18.1.1 in /home/ilaria/anaconda3/lib/python3.7/site-packages (from -r requirements.txt (line 35)) (18.1.1)\n",
      "Requirement already satisfied: Send2Trash==1.5.0 in /home/ilaria/anaconda3/lib/python3.7/site-packages (from -r requirements.txt (line 36)) (1.5.0)\n",
      "Requirement already satisfied: six==1.15.0 in /home/ilaria/anaconda3/lib/python3.7/site-packages (from -r requirements.txt (line 37)) (1.15.0)\n",
      "Requirement already satisfied: terminado==0.8.3 in /home/ilaria/anaconda3/lib/python3.7/site-packages (from -r requirements.txt (line 38)) (0.8.3)\n",
      "Requirement already satisfied: testpath==0.4.4 in /home/ilaria/anaconda3/lib/python3.7/site-packages (from -r requirements.txt (line 39)) (0.4.4)\n",
      "Requirement already satisfied: tornado==6.0.4 in /home/ilaria/anaconda3/lib/python3.7/site-packages (from -r requirements.txt (line 40)) (6.0.4)\n",
      "Requirement already satisfied: traitlets==4.3.3 in /home/ilaria/anaconda3/lib/python3.7/site-packages (from -r requirements.txt (line 41)) (4.3.3)\n",
      "Requirement already satisfied: virtualenv==20.0.21 in /home/ilaria/.local/lib/python3.7/site-packages (from -r requirements.txt (line 42)) (20.0.21)\n",
      "Requirement already satisfied: virtualenv-clone==0.5.4 in /home/ilaria/.local/lib/python3.7/site-packages (from -r requirements.txt (line 43)) (0.5.4)\n",
      "Requirement already satisfied: wcwidth==0.1.9 in /home/ilaria/anaconda3/lib/python3.7/site-packages (from -r requirements.txt (line 44)) (0.1.9)\n",
      "Requirement already satisfied: webencodings==0.5.1 in /home/ilaria/anaconda3/lib/python3.7/site-packages (from -r requirements.txt (line 45)) (0.5.1)\n",
      "Requirement already satisfied: zipp==3.1.0 in /home/ilaria/anaconda3/lib/python3.7/site-packages (from -r requirements.txt (line 46)) (3.1.0)\n",
      "Requirement already satisfied: setuptools>=18.5 in /home/ilaria/anaconda3/lib/python3.7/site-packages (from ipython==7.13.0->-r requirements.txt (line 12)) (47.1.1)\n",
      "Requirement already satisfied: pip>=18.0 in /home/ilaria/anaconda3/lib/python3.7/site-packages (from pipenv==2020.6.2->-r requirements.txt (line 28)) (20.1.1)\n",
      "Requirement already satisfied: filelock<4,>=3.0.0 in /home/ilaria/anaconda3/lib/python3.7/site-packages (from virtualenv==20.0.21->-r requirements.txt (line 42)) (3.0.12)\n"
     ]
    }
   ],
   "source": [
    "!pip install -r requirements.txt"
   ]
  },
  {
   "cell_type": "code",
   "execution_count": 112,
   "metadata": {},
   "outputs": [],
   "source": [
    "import pandas as pd\n",
    "import numpy\n",
    "import matplotlib.pyplot as plt\n",
    "import seaborn as sns\n",
    "from sklearn.metrics import accuracy_score\n",
    "from sklearn.ensemble import RandomForestClassifier\n",
    "from sklearn.linear_model import LogisticRegression\n",
    "from sklearn.neighbors import KNeighborsClassifier\n",
    "from sklearn.tree import DecisionTreeClassifier\n",
    "from sklearn.model_selection import train_test_split\n",
    "from sklearn.preprocessing import LabelEncoder\n",
    "import sklearn.metrics as metrics"
   ]
  },
  {
   "cell_type": "markdown",
   "metadata": {},
   "source": [
    "## STEP 1: Ricostruisco i dati splittati nel notebook di preparazione"
   ]
  },
  {
   "cell_type": "markdown",
   "metadata": {},
   "source": [
    "### 1.1 caricamento file *.csv* contenenti i dati di train e test"
   ]
  },
  {
   "cell_type": "code",
   "execution_count": 113,
   "metadata": {},
   "outputs": [],
   "source": [
    "path_file1 = './train.csv'\n",
    "training_set = pd.read_csv(path_file1)"
   ]
  },
  {
   "cell_type": "code",
   "execution_count": 114,
   "metadata": {},
   "outputs": [],
   "source": [
    "path_file2 = './test.csv'\n",
    "test_set = pd.read_csv(path_file2)"
   ]
  },
  {
   "cell_type": "code",
   "execution_count": 115,
   "metadata": {},
   "outputs": [
    {
     "name": "stdout",
     "output_type": "stream",
     "text": [
      "<class 'pandas.core.frame.DataFrame'>\n",
      "RangeIndex: 70736 entries, 0 to 70735\n",
      "Data columns (total 14 columns):\n",
      " #   Column          Non-Null Count  Dtype  \n",
      "---  ------          --------------  -----  \n",
      " 0   PatientId       70736 non-null  float64\n",
      " 1   AppointmentID   70736 non-null  int64  \n",
      " 2   Gender          70736 non-null  object \n",
      " 3   ScheduledDay    70736 non-null  object \n",
      " 4   AppointmentDay  70736 non-null  object \n",
      " 5   Age             70736 non-null  int64  \n",
      " 6   Neighbourhood   70736 non-null  object \n",
      " 7   Scholarship     70736 non-null  int64  \n",
      " 8   Hipertension    70736 non-null  int64  \n",
      " 9   Diabetes        70736 non-null  int64  \n",
      " 10  Alcoholism      70736 non-null  int64  \n",
      " 11  Handcap         70736 non-null  int64  \n",
      " 12  SMS_received    70736 non-null  int64  \n",
      " 13  No-show         70736 non-null  object \n",
      "dtypes: float64(1), int64(8), object(5)\n",
      "memory usage: 7.6+ MB\n"
     ]
    }
   ],
   "source": [
    "training_set.info()"
   ]
  },
  {
   "cell_type": "markdown",
   "metadata": {},
   "source": [
    "## STEP 2: Analisi features"
   ]
  },
  {
   "cell_type": "markdown",
   "metadata": {},
   "source": [
    "## 2.0 Stampa dei tipi di ciascuna colonna"
   ]
  },
  {
   "cell_type": "code",
   "execution_count": 116,
   "metadata": {},
   "outputs": [
    {
     "data": {
      "text/plain": [
       "PatientId         float64\n",
       "AppointmentID       int64\n",
       "Gender             object\n",
       "ScheduledDay       object\n",
       "AppointmentDay     object\n",
       "Age                 int64\n",
       "Neighbourhood      object\n",
       "Scholarship         int64\n",
       "Hipertension        int64\n",
       "Diabetes            int64\n",
       "Alcoholism          int64\n",
       "Handcap             int64\n",
       "SMS_received        int64\n",
       "No-show            object\n",
       "dtype: object"
      ]
     },
     "execution_count": 116,
     "metadata": {},
     "output_type": "execute_result"
    }
   ],
   "source": [
    "training_set.dtypes"
   ]
  },
  {
   "cell_type": "markdown",
   "metadata": {},
   "source": [
    "## 2.1 Analisi colonne numeriche"
   ]
  },
  {
   "cell_type": "markdown",
   "metadata": {},
   "source": [
    "### 2.1.1 Ricerca di quanti valori nulli possiedono"
   ]
  },
  {
   "cell_type": "code",
   "execution_count": 117,
   "metadata": {},
   "outputs": [
    {
     "name": "stdout",
     "output_type": "stream",
     "text": [
      "PatientId 0\n",
      "AppointmentID 0\n",
      "Age 0\n",
      "Scholarship 0\n",
      "Hipertension 0\n",
      "Diabetes 0\n",
      "Alcoholism 0\n",
      "Handcap 0\n",
      "SMS_received 0\n"
     ]
    }
   ],
   "source": [
    "numerical_columns = [col for col in training_set.columns if (training_set[col].dtype == 'int64' or training_set[col].dtype == 'float64')]\n",
    "numerical_columns\n",
    "for col in numerical_columns:\n",
    "     print(col, training_set[col].isnull().sum()) "
   ]
  },
  {
   "cell_type": "markdown",
   "metadata": {},
   "source": [
    "### 2.1.2 Stampa del totale dei valori unici"
   ]
  },
  {
   "cell_type": "code",
   "execution_count": 118,
   "metadata": {},
   "outputs": [
    {
     "name": "stdout",
     "output_type": "stream",
     "text": [
      "PatientId 46505\n",
      "AppointmentID 70736\n",
      "Age 102\n",
      "Scholarship 2\n",
      "Hipertension 2\n",
      "Diabetes 2\n",
      "Alcoholism 2\n",
      "Handcap 5\n",
      "SMS_received 2\n"
     ]
    }
   ],
   "source": [
    "for col in training_set[numerical_columns]:\n",
    "    print(col, training_set[col].nunique())"
   ]
  },
  {
   "cell_type": "markdown",
   "metadata": {},
   "source": [
    "### 2.1.3 Stampa di quali valori unici "
   ]
  },
  {
   "cell_type": "code",
   "execution_count": 119,
   "metadata": {},
   "outputs": [
    {
     "name": "stdout",
     "output_type": "stream",
     "text": [
      "PatientId [8.14723888e+14 2.88198615e+14 6.44899846e+13 ... 6.83862113e+13\n",
      " 1.56651126e+12 4.64591132e+13]\n",
      "AppointmentID [5648764 5679673 5522771 ... 5623378 5751411 5696925]\n",
      "Age [ 22  79   0  50  15  56  64   1  19  91  54  16   8   6  32  40   7  62\n",
      "  45   9  63  18  52  72  49  53  57  30  37  39  65  14   2  10  31  51\n",
      "  55  23   3  25  20  13  67  27  61  33  29  59  38   5  34  21  74  58\n",
      "  36  44  43   4  35  60  69  26  48  66  46  71  24  17  47  12  28  11\n",
      "  89  41  75  83  42  70  90  76  73  77  80  78  84  88  68  86  92  87\n",
      "  82 115  81  93  85  95  97  98  94  96 100  99]\n",
      "Scholarship [0 1]\n",
      "Hipertension [0 1]\n",
      "Diabetes [0 1]\n",
      "Alcoholism [0 1]\n",
      "Handcap [0 1 2 4 3]\n",
      "SMS_received [0 1]\n"
     ]
    }
   ],
   "source": [
    "for col in training_set[numerical_columns]:\n",
    "    print(col, training_set[col].unique())"
   ]
  },
  {
   "cell_type": "markdown",
   "metadata": {},
   "source": [
    "### 2.1.4 Colonne *AppointmentID* e *PatientId*"
   ]
  },
  {
   "cell_type": "markdown",
   "metadata": {},
   "source": [
    "Posso dropparle, sono gli identificativi rispettivamente dei pazienti e degli appuntamenti"
   ]
  },
  {
   "cell_type": "markdown",
   "metadata": {},
   "source": [
    "### 2.1.5 Colonna *Age*"
   ]
  },
  {
   "cell_type": "markdown",
   "metadata": {},
   "source": [
    "Ha tra gli unique values lo 0, analizzo che significato ha questo dato:"
   ]
  },
  {
   "cell_type": "code",
   "execution_count": 120,
   "metadata": {},
   "outputs": [
    {
     "data": {
      "text/html": [
       "<div>\n",
       "<style scoped>\n",
       "    .dataframe tbody tr th:only-of-type {\n",
       "        vertical-align: middle;\n",
       "    }\n",
       "\n",
       "    .dataframe tbody tr th {\n",
       "        vertical-align: top;\n",
       "    }\n",
       "\n",
       "    .dataframe thead th {\n",
       "        text-align: right;\n",
       "    }\n",
       "</style>\n",
       "<table border=\"1\" class=\"dataframe\">\n",
       "  <thead>\n",
       "    <tr style=\"text-align: right;\">\n",
       "      <th></th>\n",
       "      <th>PatientId</th>\n",
       "      <th>AppointmentID</th>\n",
       "      <th>Gender</th>\n",
       "      <th>ScheduledDay</th>\n",
       "      <th>AppointmentDay</th>\n",
       "      <th>Age</th>\n",
       "      <th>Neighbourhood</th>\n",
       "      <th>Scholarship</th>\n",
       "      <th>Hipertension</th>\n",
       "      <th>Diabetes</th>\n",
       "      <th>Alcoholism</th>\n",
       "      <th>Handcap</th>\n",
       "      <th>SMS_received</th>\n",
       "      <th>No-show</th>\n",
       "    </tr>\n",
       "  </thead>\n",
       "  <tbody>\n",
       "  </tbody>\n",
       "</table>\n",
       "</div>"
      ],
      "text/plain": [
       "Empty DataFrame\n",
       "Columns: [PatientId, AppointmentID, Gender, ScheduledDay, AppointmentDay, Age, Neighbourhood, Scholarship, Hipertension, Diabetes, Alcoholism, Handcap, SMS_received, No-show]\n",
       "Index: []"
      ]
     },
     "execution_count": 120,
     "metadata": {},
     "output_type": "execute_result"
    }
   ],
   "source": [
    "training_set[(training_set.Age <= 0) & ((training_set.Hipertension == 1) | (training_set.Alcoholism == 1))]"
   ]
  },
  {
   "cell_type": "markdown",
   "metadata": {},
   "source": [
    "La stampa delle righe relative a pazienti con età zero non evidenzia relazione con le patologie presenti tra le features. Posso dedurre che si tratta di bambini/neonati con nessuna patologia. Di conseguenza tratto questi pazienti come tutti quelli di altre età e non interpreto lo 0 come un valore nullo"
   ]
  },
  {
   "cell_type": "markdown",
   "metadata": {},
   "source": [
    "Realizzo il grafico relativo alla probabilità che le persone si siano presentate all'appuntamento in funzione dell'età"
   ]
  },
  {
   "cell_type": "code",
   "execution_count": 121,
   "metadata": {},
   "outputs": [],
   "source": [
    "#funzione per il calcolo della probabilità\n",
    "def probabilityShow(dataset, group_by):\n",
    "    df = pd.crosstab(index = dataset[group_by], columns = training_set['No-show']).reset_index()\n",
    "    df['probNoShow'] = df['No'] / (df['No'] + df['Yes'])\n",
    "    return df[[group_by, 'probNoShow']]"
   ]
  },
  {
   "cell_type": "code",
   "execution_count": 122,
   "metadata": {},
   "outputs": [
    {
     "data": {
      "image/png": "[encoded data removed]",
      "text/plain": [
       "<Figure size 360x360 with 1 Axes>"
      ]
     },
     "metadata": {
      "needs_background": "light"
     },
     "output_type": "display_data"
    }
   ],
   "source": [
    "#grafico\n",
    "sns.lmplot(data = probabilityShow(training_set, 'Age'), x = 'Age', y = 'probNoShow', fit_reg = True)\n",
    "plt.xlim(0, 110)\n",
    "plt.title('Probabilità di No-show = Yes in correlazione con Age')\n",
    "plt.show()"
   ]
  },
  {
   "cell_type": "markdown",
   "metadata": {},
   "source": [
    "Mediamente osservo che il comportamento dei pazienti è analogo nell'ambito di alcune fasce di età ben delineate: \n",
    "mediante *feature engineering* provo a suddividere i valori della colonna Age in tante fasce d'età, in corrispondenza delle variazioni più significative, e trasformo la colonna stessa da numerica a categorica."
   ]
  },
  {
   "cell_type": "code",
   "execution_count": 123,
   "metadata": {},
   "outputs": [],
   "source": [
    "def age_division(dataset) :\n",
    "    if dataset['Age'] <= 10 :\n",
    "        return 'Age0-10'\n",
    "    elif (dataset['Age'] > 10) & (dataset['Age'] <= 35 ):\n",
    "        return 'Age10-35'\n",
    "    elif (dataset['Age'] > 35) & (dataset['Age'] <= 60) :\n",
    "        return 'Age35-60'\n",
    "    elif (dataset['Age'] > 60) & (dataset['Age'] <= 80) :\n",
    "        return 'Age60-80'\n",
    "    elif dataset['Age'] > 80 :\n",
    "        return 'AgeOver80'\n",
    "training_set['AgeAggregated'] = training_set.apply(lambda data: age_division(data),axis = 1)\n",
    "training_set.drop(columns=['Age'], inplace = True) #ora Age non serve più\n",
    "\n",
    "test_set['AgeAggregated'] = test_set.apply(lambda data: age_division(data),axis = 1)\n",
    "test_set.drop(columns=['Age'], inplace = True)"
   ]
  },
  {
   "cell_type": "code",
   "execution_count": 124,
   "metadata": {},
   "outputs": [
    {
     "name": "stdout",
     "output_type": "stream",
     "text": [
      "['Age10-35' 'Age60-80' 'Age0-10' 'Age35-60' 'AgeOver80']\n",
      "['Age0-10' 'Age60-80' 'Age35-60' 'Age10-35' 'AgeOver80']\n"
     ]
    }
   ],
   "source": [
    "print(training_set.AgeAggregated.unique())\n",
    "print(test_set.AgeAggregated.unique())"
   ]
  },
  {
   "cell_type": "markdown",
   "metadata": {},
   "source": [
    "## 2.2  Analisi colonne categoriche"
   ]
  },
  {
   "cell_type": "markdown",
   "metadata": {},
   "source": [
    "### 2.2.1 Stampa del totale dei valori unici"
   ]
  },
  {
   "cell_type": "code",
   "execution_count": 125,
   "metadata": {},
   "outputs": [
    {
     "data": {
      "text/plain": [
       "[('Gender', 2),\n",
       " ('No-show', 2),\n",
       " ('AgeAggregated', 5),\n",
       " ('AppointmentDay', 27),\n",
       " ('Neighbourhood', 81),\n",
       " ('ScheduledDay', 67706)]"
      ]
     },
     "execution_count": 125,
     "metadata": {},
     "output_type": "execute_result"
    }
   ],
   "source": [
    "categorical_columns = [col for col in training_set.columns if training_set[col].dtype == 'object']\n",
    "unique_values = list(map(lambda col: training_set[col].nunique(), categorical_columns))\n",
    "d = dict(zip(categorical_columns, unique_values))\n",
    "sorted(d.items(), key=lambda x: x[1])"
   ]
  },
  {
   "cell_type": "markdown",
   "metadata": {},
   "source": [
    "### 2.2.2 Stampa di quali valori unici possiedono"
   ]
  },
  {
   "cell_type": "code",
   "execution_count": 126,
   "metadata": {},
   "outputs": [
    {
     "name": "stdout",
     "output_type": "stream",
     "text": [
      "Gender ['F' 'M']\n",
      "ScheduledDay ['2016-05-02T16:30:07Z' '2016-05-10T10:18:20Z' '2016-03-29T15:06:50Z' ...\n",
      " '2016-04-26T13:59:09Z' '2016-05-31T10:05:14Z' '2016-05-13T14:38:50Z']\n",
      "AppointmentDay ['2016-05-05T00:00:00Z' '2016-05-13T00:00:00Z' '2016-05-10T00:00:00Z'\n",
      " '2016-05-20T00:00:00Z' '2016-05-30T00:00:00Z' '2016-05-17T00:00:00Z'\n",
      " '2016-05-19T00:00:00Z' '2016-06-01T00:00:00Z' '2016-05-11T00:00:00Z'\n",
      " '2016-05-24T00:00:00Z' '2016-06-08T00:00:00Z' '2016-06-03T00:00:00Z'\n",
      " '2016-05-03T00:00:00Z' '2016-05-09T00:00:00Z' '2016-05-02T00:00:00Z'\n",
      " '2016-06-02T00:00:00Z' '2016-06-07T00:00:00Z' '2016-04-29T00:00:00Z'\n",
      " '2016-05-18T00:00:00Z' '2016-05-31T00:00:00Z' '2016-05-16T00:00:00Z'\n",
      " '2016-05-04T00:00:00Z' '2016-06-06T00:00:00Z' '2016-05-06T00:00:00Z'\n",
      " '2016-05-12T00:00:00Z' '2016-05-25T00:00:00Z' '2016-05-14T00:00:00Z']\n",
      "Neighbourhood ['MARIA ORTIZ' 'CONSOLAÇÃO' 'JESUS DE NAZARETH' 'BARRO VERMELHO'\n",
      " 'ANDORINHAS' 'SANTO ANTÔNIO' 'SÃO PEDRO' 'RESISTÊNCIA' 'CENTRO'\n",
      " 'JARDIM CAMBURI' 'JABOUR' 'SANTA MARTHA' 'FORTE SÃO JOÃO' 'ITARARÉ'\n",
      " 'ILHA DAS CAIEIRAS' 'JOANA D´ARC' 'GRANDE VITÓRIA' 'TABUAZEIRO'\n",
      " 'NOVA PALESTINA' 'SANTA LUÍZA' 'VILA RUBIM' 'JARDIM DA PENHA'\n",
      " 'PRAIA DO CANTO' 'SÃO CRISTÓVÃO' 'DE LOURDES' 'ILHA DO PRÍNCIPE'\n",
      " 'MATA DA PRAIA' 'GURIGICA' 'DA PENHA' 'CRUZAMENTO' 'CARATOÍRA'\n",
      " 'ILHA DE SANTA MARIA' 'SÃO JOSÉ' 'BELA VISTA' 'BONFIM' 'PIEDADE'\n",
      " 'COMDUSA' 'DO CABRAL' 'SANTOS REIS' 'SÃO BENEDITO' 'BENTO FERREIRA'\n",
      " 'SANTA LÚCIA' 'CONQUISTA' 'SANTA TEREZA' 'PRAIA DO SUÁ' 'ESTRELINHA'\n",
      " 'INHANGUETÁ' 'REPÚBLICA' 'FONTE GRANDE' 'SOLON BORGES' 'DO QUADRO'\n",
      " 'PARQUE MOSCOSO' 'MONTE BELO' 'SANTO ANDRÉ' 'HORTO' 'ROMÃO'\n",
      " 'ANTÔNIO HONÓRIO' 'ENSEADA DO SUÁ' 'SANTOS DUMONT' 'SANTA HELENA'\n",
      " 'MARUÍPE' 'GOIABEIRAS' 'REDENÇÃO' 'SANTA CLARA' 'SANTA CECÍLIA'\n",
      " 'MORADA DE CAMBURI' 'NAZARETH' 'FRADINHOS' 'JUCUTUQUARA' 'UNIVERSITÁRIO'\n",
      " 'BOA VISTA' 'SEGURANÇA DO LAR' 'ARIOVALDO FAVALESSA' 'DO MOSCOSO'\n",
      " 'MÁRIO CYPRESTE' 'ILHA DO BOI' 'PONTAL DE CAMBURI' 'AEROPORTO'\n",
      " 'ILHA DO FRADE' 'PARQUE INDUSTRIAL' 'ILHAS OCEÂNICAS DE TRINDADE']\n",
      "No-show ['No' 'Yes']\n",
      "AgeAggregated ['Age10-35' 'Age60-80' 'Age0-10' 'Age35-60' 'AgeOver80']\n"
     ]
    }
   ],
   "source": [
    "for col in training_set[categorical_columns]:\n",
    "    print(col, training_set[col].unique())"
   ]
  },
  {
   "cell_type": "markdown",
   "metadata": {},
   "source": [
    "### 2.2.3 Colonna *Gender* in correlazione con il target "
   ]
  },
  {
   "cell_type": "markdown",
   "metadata": {},
   "source": [
    "Costruisco il grafico che, raggruppando per genere, conta il totale dei valori per il target e ne estrae la percentuale"
   ]
  },
  {
   "cell_type": "code",
   "execution_count": 127,
   "metadata": {},
   "outputs": [
    {
     "data": {
      "image/png": "[encoded data removed]",
      "text/plain": [
       "<Figure size 432x288 with 1 Axes>"
      ]
     },
     "metadata": {
      "needs_background": "light"
     },
     "output_type": "display_data"
    }
   ],
   "source": [
    "g = training_set.groupby('Gender')[\"No-show\"].value_counts().to_frame()\n",
    "g = g.rename({\"No-show\": 'Percentage'}, axis=1).reset_index()\n",
    "g['Percentage'] = g['Percentage']/len(training_set)\n",
    "ax = sns.barplot(x='Gender', y= 'Percentage', hue='No-show', data=g, orient='v')"
   ]
  },
  {
   "cell_type": "markdown",
   "metadata": {},
   "source": [
    "Sul totale della popolazione il rapporto di proporzione tra uomini e donne che non si sono presentati all'appuntamento è uguale a quello delle persone che invece si sono presentate: circa il 63% della popolazione è femminile (51% non si è presentata - 12% si è presentata), il restante 37% è maschile (29% non si è presentata - 8% si è presentata). Possiamo dedurre che, in rapporto al target di predizione, 'Gender' non è una feature significativa"
   ]
  },
  {
   "cell_type": "markdown",
   "metadata": {},
   "source": [
    "NB: in fase di creazione del modello, provando a droppare la feature non si rilevano significativi miglioramenti. Probabilmente, quindi, esistono altre correlazioni con altre features, non individuate, Gender quindi non viene droppata"
   ]
  },
  {
   "cell_type": "markdown",
   "metadata": {},
   "source": [
    "### 2.2.4 *AppointmentDay* e *ScheduledDay*"
   ]
  },
  {
   "cell_type": "markdown",
   "metadata": {},
   "source": [
    "Da sola la colonna ScheduledDay non è utile perché dalle stampe sopra eseguite si nota che possiede tutti valori unici che non si ripetono nel dataset, il modello perciò non imparerebbe molto da essa. "
   ]
  },
  {
   "cell_type": "markdown",
   "metadata": {},
   "source": [
    "Provo, ancora mediante *feature engineering*, a trasformare sia AppointmentDay sia ScheduledDay da object a datetime, in maniera da uniformarle (eliminando il problema delle ore 0.00 non fissate in AppointmentDay) e cercare di trarre vantaggio creando una nuova feature che rappresenta la differenza, in termini di giorni, tra il giorno in cui l'appuntamento è fissato dal paziente e il giorno dell'effettivo svolgimento del controllo medico. "
   ]
  },
  {
   "cell_type": "code",
   "execution_count": 128,
   "metadata": {},
   "outputs": [],
   "source": [
    "training_set['ScheduledDay'] = pd.to_datetime(training_set['ScheduledDay']).dt.date.astype('datetime64[ns]')\n",
    "training_set['AppointmentDay'] = pd.to_datetime(training_set['AppointmentDay']).dt.date.astype('datetime64[ns]')\n",
    "\n",
    "test_set['ScheduledDay'] = pd.to_datetime(test_set['ScheduledDay']).dt.date.astype('datetime64[ns]')\n",
    "test_set['AppointmentDay'] = pd.to_datetime(test_set['AppointmentDay']).dt.date.astype('datetime64[ns]')"
   ]
  },
  {
   "cell_type": "code",
   "execution_count": 129,
   "metadata": {},
   "outputs": [],
   "source": [
    "diff_scheduled_to_appoint_train = training_set['AppointmentDay'] - training_set['ScheduledDay']\n",
    "diff_scheduled_to_appoint_train = diff_scheduled_to_appoint_train.apply(lambda totGiorni: totGiorni.total_seconds()/(3600 * 24))\n",
    "#uso total_seconds per trasformare il datetime in secondi, per misurare la distanza temporale\n",
    "training_set = pd.concat([training_set, diff_scheduled_to_appoint_train], axis = 1)\n",
    "training_set.rename(inplace = True, mapper = {0: 'diff_scheduled_to_appoint'}, axis = 1)\n",
    "training_set.drop(['ScheduledDay'], axis = 1, inplace = True)\n",
    "training_set.drop(['AppointmentDay'], axis = 1, inplace = True)\n",
    "\n",
    "\n",
    "diff_scheduled_to_appoint_test = test_set['AppointmentDay'] - test_set['ScheduledDay']\n",
    "diff_scheduled_to_appoint_test = diff_scheduled_to_appoint_test.apply(lambda totGiorni: totGiorni.total_seconds()/(3600 * 24))\n",
    "test_set = pd.concat([test_set, diff_scheduled_to_appoint_test], axis = 1)\n",
    "test_set.rename(inplace = True, mapper = {0: 'diff_scheduled_to_appoint'}, axis = 1)\n",
    "test_set.drop(['ScheduledDay'], axis = 1, inplace = True)\n",
    "test_set.drop(['AppointmentDay'], axis = 1, inplace = True)"
   ]
  },
  {
   "cell_type": "markdown",
   "metadata": {},
   "source": [
    "Controllo che non ci siano anomalie generate dal calcolo della differenza tra i giorni"
   ]
  },
  {
   "cell_type": "code",
   "execution_count": 130,
   "metadata": {},
   "outputs": [
    {
     "name": "stdout",
     "output_type": "stream",
     "text": [
      "diff_scheduled_to_appoint\n",
      "-6.0          1\n",
      "-1.0          2\n",
      " 0.0      24719\n",
      " 1.0       3345\n",
      " 2.0       4322\n",
      "          ...  \n",
      " 155.0        5\n",
      " 162.0        9\n",
      " 169.0        6\n",
      " 176.0        7\n",
      " 179.0        6\n",
      "Length: 126, dtype: int64\n"
     ]
    }
   ],
   "source": [
    "print(training_set.groupby('diff_scheduled_to_appoint').size())"
   ]
  },
  {
   "cell_type": "markdown",
   "metadata": {},
   "source": [
    "Posso droppare i valori negativi che sono privi di senso"
   ]
  },
  {
   "cell_type": "code",
   "execution_count": 131,
   "metadata": {},
   "outputs": [],
   "source": [
    "training_set.drop(training_set[training_set['diff_scheduled_to_appoint'] < 0].index, inplace=True)\n",
    "test_set.drop(test_set[test_set['diff_scheduled_to_appoint'] < 0].index, inplace=True)"
   ]
  },
  {
   "cell_type": "markdown",
   "metadata": {},
   "source": [
    "Con l'aiuto di una funzione ausiliaria calcolo la probabilità che un paziente si sia presentato sulla base di quanto dista il giorno dell'appuntamento effettivo dal giorno in cui questo è stato prenotato."
   ]
  },
  {
   "cell_type": "code",
   "execution_count": 132,
   "metadata": {},
   "outputs": [],
   "source": [
    "def probabilityNoShow(dataset, group_by):\n",
    "    df = pd.crosstab(index = dataset[group_by], columns = training_set['No-show']).reset_index()\n",
    "    df['probNoShow'] = df['No'] / (df['Yes'] + df['No'])\n",
    "    return df[[group_by, 'probNoShow']]"
   ]
  },
  {
   "cell_type": "code",
   "execution_count": 133,
   "metadata": {},
   "outputs": [
    {
     "data": {
      "image/png": "[encoded data removed]",
      "text/plain": [
       "<Figure size 360x360 with 1 Axes>"
      ]
     },
     "metadata": {
      "needs_background": "light"
     },
     "output_type": "display_data"
    }
   ],
   "source": [
    "sns.lmplot(data = probabilityNoShow(training_set, 'diff_scheduled_to_appoint'), x = 'diff_scheduled_to_appoint', y = 'probNoShow', fit_reg = True)\n",
    "plt.xlim(0, 150)\n",
    "plt.title('Probabilità di No-show = No in correlazione con la differenza di giorni')\n",
    "plt.show()"
   ]
  },
  {
   "cell_type": "markdown",
   "metadata": {},
   "source": [
    "Il grafico mostra un'effettiva correlazione tra i giorni intercorsi tra la registrazione dell'appuntamento e il giorno effettivo dello stesso: meno giorni passano, più è probabile che i pazienti si presentino all'appuntamento fissato. Mi comporto come la colonna numerica Age, trasformandola in una categorica e cercando di trarre vantaggio dalla presenza dei suoi valori raggruppati per categorie"
   ]
  },
  {
   "cell_type": "code",
   "execution_count": 134,
   "metadata": {},
   "outputs": [],
   "source": [
    "def diff_division(dataset) :\n",
    "    if dataset['diff_scheduled_to_appoint'] <= 0:\n",
    "        return 'Cat1'\n",
    "    elif (dataset['diff_scheduled_to_appoint'] > 0) & (dataset['diff_scheduled_to_appoint'] <= 5):\n",
    "        return 'Cat2'\n",
    "    elif (dataset['diff_scheduled_to_appoint'] > 5) & (dataset['diff_scheduled_to_appoint'] <= 85):\n",
    "        return 'Cat3'\n",
    "    elif (dataset['diff_scheduled_to_appoint'] > 85):\n",
    "        return 'Cat4'\n",
    "training_set['diffAggregated'] = training_set.apply(lambda data: diff_division(data),axis = 1)\n",
    "training_set.drop(columns=['diff_scheduled_to_appoint'], inplace = True) \n",
    "\n",
    "test_set['diffAggregated'] = test_set.apply(lambda data: diff_division(data),axis = 1)\n",
    "test_set.drop(columns=['diff_scheduled_to_appoint'], inplace = True)"
   ]
  },
  {
   "cell_type": "markdown",
   "metadata": {},
   "source": [
    "Spiegazione dei nuovi valori feature *diffAggregated*. La Cat1 rappresenta quelle persone che prenotano un appuntamento a brevissimo termine (il giorno dopo aver chiamato o il giorno stesso) e non si presentano (sono pochissime). Le ho separate dalla Cat2 perché si nota uno stacco evidente rispetto a quelle persone che invece prenotano e non si presentano comunque, ma la distanza distanza temporale è superiore di qualche giorno. La Cat3  rappresenta persone che hanno appuntamenti nel giro di poco meno di un mese ma non si presentano. La Cat4 invece non è particolarmente significativa perché rappresenta più o meno equamente persone che decidono di andare o meno all'appuntamento fissato (poiché i giorni di distanza aumentano, si può ipotizzare che la scelta del no, che è leggermente preponderante, dipenda da fattori esterni che hanno fatto desistere gli interessati). La Cat5 invece rappresenta tutte quelle persone che si sono presentate all'appuntamento nonostante sia passato già molto tempo da quando è stato fissato (probabile urgenza e necessità nonostante le lunghe scadenze)."
   ]
  },
  {
   "cell_type": "code",
   "execution_count": 135,
   "metadata": {},
   "outputs": [
    {
     "name": "stdout",
     "output_type": "stream",
     "text": [
      "['Cat3' 'Cat2' 'Cat1' 'Cat4']\n",
      "['Cat2' 'Cat3' 'Cat1' 'Cat4']\n"
     ]
    },
    {
     "data": {
      "text/plain": [
       "PatientId         46504\n",
       "AppointmentID     70733\n",
       "Gender                2\n",
       "Neighbourhood        81\n",
       "Scholarship           2\n",
       "Hipertension          2\n",
       "Diabetes              2\n",
       "Alcoholism            2\n",
       "Handcap               5\n",
       "SMS_received          2\n",
       "No-show               2\n",
       "AgeAggregated         5\n",
       "diffAggregated        4\n",
       "dtype: int64"
      ]
     },
     "execution_count": 135,
     "metadata": {},
     "output_type": "execute_result"
    }
   ],
   "source": [
    "print(test_set.diffAggregated.unique())\n",
    "print(training_set.diffAggregated.unique())\n",
    "training_set.nunique()"
   ]
  },
  {
   "cell_type": "markdown",
   "metadata": {},
   "source": [
    "## STEP 2: Split dei dati "
   ]
  },
  {
   "cell_type": "code",
   "execution_count": 136,
   "metadata": {},
   "outputs": [
    {
     "name": "stdout",
     "output_type": "stream",
     "text": [
      "<class 'pandas.core.frame.DataFrame'>\n",
      "Int64Index: 70733 entries, 0 to 70735\n",
      "Data columns (total 9 columns):\n",
      " #   Column          Non-Null Count  Dtype \n",
      "---  ------          --------------  ----- \n",
      " 0   Gender          70733 non-null  object\n",
      " 1   Scholarship     70733 non-null  int64 \n",
      " 2   Hipertension    70733 non-null  int64 \n",
      " 3   Diabetes        70733 non-null  int64 \n",
      " 4   Alcoholism      70733 non-null  int64 \n",
      " 5   Handcap         70733 non-null  int64 \n",
      " 6   SMS_received    70733 non-null  int64 \n",
      " 7   AgeAggregated   70733 non-null  object\n",
      " 8   diffAggregated  70733 non-null  object\n",
      "dtypes: int64(6), object(3)\n",
      "memory usage: 5.4+ MB\n"
     ]
    }
   ],
   "source": [
    "y_train = training_set['No-show']\n",
    "X_train = training_set.drop(['No-show', 'PatientId', 'AppointmentID', 'Neighbourhood'], axis = 1, inplace = False)\n",
    "\n",
    "y_test = test_set['No-show']\n",
    "X_test = test_set.drop(['No-show', 'PatientId', 'AppointmentID', 'Neighbourhood'], axis = 1, inplace = False)\n",
    "\n",
    "X_train.info()"
   ]
  },
  {
   "cell_type": "markdown",
   "metadata": {},
   "source": [
    "\n",
    "## STEP 3: Encoding delle features categoriche"
   ]
  },
  {
   "cell_type": "markdown",
   "metadata": {},
   "source": [
    "## 3.1 Mi preoccupo di distinguere se esistono colonne nel test set che hanno valori sconosciuti rispetto a quelli presenti nel train set"
   ]
  },
  {
   "cell_type": "code",
   "execution_count": 137,
   "metadata": {},
   "outputs": [
    {
     "name": "stdout",
     "output_type": "stream",
     "text": [
      "Numeriche ['Scholarship', 'Hipertension', 'Diabetes', 'Alcoholism', 'Handcap', 'SMS_received']\n",
      "Categoriche ['Gender', 'AgeAggregated', 'diffAggregated']\n",
      "Colonne categoriche non problematiche ['Gender', 'AgeAggregated', 'diffAggregated']\n",
      "Colonne catecorighe problematiche []\n"
     ]
    }
   ],
   "source": [
    "numerical_columns = [col for col in X_train.columns if X_train[col].dtype == 'int64' or X_train[col].dtype == 'float64']\n",
    "print('Numeriche',numerical_columns)\n",
    "\n",
    "categorical_columns = [col for col in X_train.columns if X_train[col].dtype == \"object\"]\n",
    "print('Categoriche', categorical_columns)\n",
    "\n",
    "good_label_cols = [col for col in categorical_columns if set(X_train[col]) == set(X_test[col])]\n",
    "print('Colonne categoriche non problematiche', good_label_cols)\n",
    "\n",
    "bad_label_cols = list(set(X_test.columns)-set(good_label_cols)-set(numerical_columns))\n",
    "print('Colonne catecorighe problematiche', bad_label_cols)"
   ]
  },
  {
   "cell_type": "markdown",
   "metadata": {},
   "source": [
    "Su Gender non ci sono problemi in linea teorica, su AgeAggregated e diffAggregated potrebbero presentarsi quando il modello è fatto girare su un nuovo set di test. Eseguo sulle due categoriche create nuove una visita dei loro valori e rimpiazzo con una stringa 'significativa' la presenza di valori classificati come sconosciuti, in modo da evitare problemi"
   ]
  },
  {
   "cell_type": "code",
   "execution_count": 138,
   "metadata": {},
   "outputs": [],
   "source": [
    "encoder = LabelEncoder()\n",
    "encoded_X_train = X_train\n",
    "encoded_X_test = X_test\n",
    "\n",
    "for col in set(categorical_columns):\n",
    "    encoded_X_train[col] = encoder.fit_transform(encoded_X_train[col])\n",
    "    for ind in test_set[col].index:\n",
    "        if not test_set[col][ind] in encoder.classes_: #parametro che tiene le etichette (label) delle features\n",
    "            test_set[col][ind] = 'notPresent'\n",
    "    encoder.classes_ = numpy.append(encoder.classes_, 'notPresent')\n",
    "    encoded_X_test[col] = encoder.transform(encoded_X_test[col])"
   ]
  },
  {
   "cell_type": "markdown",
   "metadata": {},
   "source": [
    "## STEP 3: Creazione di più modelli dopo aver fatto la 'best parameter selection'"
   ]
  },
  {
   "cell_type": "markdown",
   "metadata": {},
   "source": [
    "Dopo aver creato diversi modelli facendo su di essi la selezione dei parametri migliori, concludo dicendo che l'accuracy del modello DecisionTree è la migliore\n",
    "Dopo aver fatto prove sulla base della feature importance stimata, ho notato netti miglioramenti su tutti i modelli creati per quanto riguarda le predizioni del Si."
   ]
  },
  {
   "cell_type": "markdown",
   "metadata": {},
   "source": [
    "Ho notato, inoltre, come non droppare PatientId rendeva più alta l'accuracy, ma mi è sembrata un'operazione poco sensata data la natura della features. Restano comunque alcuni dubbi su questa colonna poiché i valori unici che essa possiede non sono tutti unici, dunque con essa il modello riesce ad apprendere qualcosa in più."
   ]
  },
  {
   "cell_type": "markdown",
   "metadata": {},
   "source": [
    "## 3.2 Logistic Regression"
   ]
  },
  {
   "cell_type": "code",
   "execution_count": 139,
   "metadata": {},
   "outputs": [
    {
     "name": "stdout",
     "output_type": "stream",
     "text": [
      "0.7956460277070964\n"
     ]
    }
   ],
   "source": [
    "lr=LogisticRegression(max_iter = 200)\n",
    "lr.fit(encoded_X_train,y_train)\n",
    "predictions_final1 = lr.predict(encoded_X_test)\n",
    "print(lr.score(X_test, y_test))"
   ]
  },
  {
   "cell_type": "code",
   "execution_count": 140,
   "metadata": {},
   "outputs": [
    {
     "data": {
      "image/png": "[encoded data removed]",
      "text/plain": [
       "<Figure size 720x432 with 1 Axes>"
      ]
     },
     "metadata": {
      "needs_background": "light"
     },
     "output_type": "display_data"
    }
   ],
   "source": [
    "confusion_matrix = metrics.confusion_matrix(y_test, predictions_final1)\n",
    "plt.figure(figsize = (10,6))\n",
    "\n",
    "plt.subplot(1,1,1)\n",
    "plt.title(\"Confusion matrix Logistic Regression\", fontsize=15)\n",
    "sns.heatmap(confusion_matrix, cbar = False, annot = True, cmap = \"Pastel2_r\", fmt = 'd')\n",
    "plt.show()"
   ]
  },
  {
   "cell_type": "markdown",
   "metadata": {},
   "source": [
    "## 3.3 KNN"
   ]
  },
  {
   "cell_type": "code",
   "execution_count": 143,
   "metadata": {},
   "outputs": [
    {
     "name": "stdout",
     "output_type": "stream",
     "text": [
      "0.7898218829516539\n"
     ]
    }
   ],
   "source": [
    "knn=KNeighborsClassifier(n_neighbors = 18)\n",
    "knn.fit(encoded_X_train,y_train)\n",
    "predictions_final2 = knn.predict(encoded_X_test)\n",
    "print(knn.score(X_test, y_test))"
   ]
  },
  {
   "cell_type": "code",
   "execution_count": 144,
   "metadata": {},
   "outputs": [
    {
     "data": {
      "image/png": "[encoded data removed]",
      "text/plain": [
       "<Figure size 720x432 with 1 Axes>"
      ]
     },
     "metadata": {
      "needs_background": "light"
     },
     "output_type": "display_data"
    }
   ],
   "source": [
    "confusion_matrix = metrics.confusion_matrix(y_test, predictions_final2)\n",
    "plt.figure(figsize = (10,6))\n",
    "\n",
    "plt.subplot(1,1,1)\n",
    "plt.title(\"Confusion matrix Decision Tree\", fontsize=15)\n",
    "sns.heatmap(confusion_matrix, cbar = False, annot = True, cmap = \"Pastel2_r\", fmt = 'd')\n",
    "plt.show()"
   ]
  },
  {
   "cell_type": "markdown",
   "metadata": {},
   "source": [
    "## Decision Tree"
   ]
  },
  {
   "cell_type": "code",
   "execution_count": 145,
   "metadata": {},
   "outputs": [
    {
     "name": "stdout",
     "output_type": "stream",
     "text": [
      "0.7965507492225049\n"
     ]
    }
   ],
   "source": [
    "from sklearn.tree import DecisionTreeClassifier\n",
    "dt = DecisionTreeClassifier(random_state = 1)\n",
    "dt.fit(encoded_X_train, y_train)\n",
    "predictions = dt.predict(encoded_X_test)\n",
    "print(dt.score(X_test, y_test))"
   ]
  },
  {
   "cell_type": "code",
   "execution_count": 146,
   "metadata": {},
   "outputs": [
    {
     "data": {
      "image/png": "[encoded data removed]",
      "text/plain": [
       "<Figure size 720x432 with 1 Axes>"
      ]
     },
     "metadata": {
      "needs_background": "light"
     },
     "output_type": "display_data"
    }
   ],
   "source": [
    "confusion_matrix = metrics.confusion_matrix(y_test, predictions)\n",
    "plt.figure(figsize = (10,6))\n",
    "\n",
    "plt.subplot(1,1,1)\n",
    "plt.title(\"Confusion matrix Decision Tree\", fontsize=15)\n",
    "sns.heatmap(confusion_matrix, cbar = False, annot = True, cmap = \"Pastel2_r\", fmt = 'd')\n",
    "plt.show()"
   ]
  },
  {
   "cell_type": "markdown",
   "metadata": {},
   "source": [
    "# Best Accuracy: modello DecisionTree dt"
   ]
  }
 ],
 "metadata": {
  "kernelspec": {
   "display_name": "Python 3",
   "language": "python",
   "name": "python3"
  },
  "language_info": {
   "codemirror_mode": {
    "name": "ipython",
    "version": 3
   },
   "file_extension": ".py",
   "mimetype": "text/x-python",
   "name": "python",
   "nbconvert_exporter": "python",
   "pygments_lexer": "ipython3",
   "version": "3.7.6"
  }
 },
 "nbformat": 4,
 "nbformat_minor": 4
}
