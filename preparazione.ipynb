{
 "cells": [
  {
   "cell_type": "markdown",
   "metadata": {},
   "source": [
    "# Challenge Esame IA 2020 - Notebook Preparazione"
   ]
  },
  {
   "cell_type": "code",
   "execution_count": 1,
   "metadata": {},
   "outputs": [
    {
     "name": "stdout",
     "output_type": "stream",
     "text": [
      "Requirement already satisfied: appdirs==1.4.4 in /home/ilaria/.local/lib/python3.7/site-packages (from -r requirements.txt (line 1)) (1.4.4)\n",
      "Requirement already satisfied: attrs==19.3.0 in /home/ilaria/anaconda3/lib/python3.7/site-packages (from -r requirements.txt (line 2)) (19.3.0)\n",
      "Requirement already satisfied: backcall==0.1.0 in /home/ilaria/anaconda3/lib/python3.7/site-packages (from -r requirements.txt (line 3)) (0.1.0)\n",
      "Requirement already satisfied: bleach==3.1.4 in /home/ilaria/anaconda3/lib/python3.7/site-packages (from -r requirements.txt (line 4)) (3.1.4)\n",
      "Requirement already satisfied: certifi==2020.4.5.1 in /home/ilaria/anaconda3/lib/python3.7/site-packages (from -r requirements.txt (line 5)) (2020.4.5.1)\n",
      "Requirement already satisfied: decorator==4.4.2 in /home/ilaria/anaconda3/lib/python3.7/site-packages (from -r requirements.txt (line 6)) (4.4.2)\n",
      "Requirement already satisfied: defusedxml==0.6.0 in /home/ilaria/anaconda3/lib/python3.7/site-packages (from -r requirements.txt (line 7)) (0.6.0)\n",
      "Requirement already satisfied: distlib==0.3.0 in /home/ilaria/.local/lib/python3.7/site-packages (from -r requirements.txt (line 8)) (0.3.0)\n",
      "Requirement already satisfied: entrypoints==0.3 in /home/ilaria/anaconda3/lib/python3.7/site-packages (from -r requirements.txt (line 9)) (0.3)\n",
      "Requirement already satisfied: importlib-metadata==1.6.0 in /home/ilaria/anaconda3/lib/python3.7/site-packages (from -r requirements.txt (line 10)) (1.6.0)\n",
      "Requirement already satisfied: ipykernel==5.1.4 in /home/ilaria/anaconda3/lib/python3.7/site-packages (from -r requirements.txt (line 11)) (5.1.4)\n",
      "Requirement already satisfied: ipython==7.13.0 in /home/ilaria/anaconda3/lib/python3.7/site-packages (from -r requirements.txt (line 12)) (7.13.0)\n",
      "Requirement already satisfied: ipython-genutils==0.2.0 in /home/ilaria/anaconda3/lib/python3.7/site-packages (from -r requirements.txt (line 13)) (0.2.0)\n",
      "Requirement already satisfied: jedi==0.17.0 in /home/ilaria/anaconda3/lib/python3.7/site-packages (from -r requirements.txt (line 14)) (0.17.0)\n",
      "Requirement already satisfied: Jinja2==2.11.2 in /home/ilaria/anaconda3/lib/python3.7/site-packages (from -r requirements.txt (line 15)) (2.11.2)\n",
      "Requirement already satisfied: jsonschema==3.2.0 in /home/ilaria/anaconda3/lib/python3.7/site-packages (from -r requirements.txt (line 16)) (3.2.0)\n",
      "Requirement already satisfied: jupyter-client==6.1.3 in /home/ilaria/anaconda3/lib/python3.7/site-packages (from -r requirements.txt (line 17)) (6.1.3)\n",
      "Requirement already satisfied: jupyter-core==4.6.3 in /home/ilaria/anaconda3/lib/python3.7/site-packages (from -r requirements.txt (line 18)) (4.6.3)\n",
      "Requirement already satisfied: MarkupSafe==1.1.1 in /home/ilaria/anaconda3/lib/python3.7/site-packages (from -r requirements.txt (line 19)) (1.1.1)\n",
      "Requirement already satisfied: mistune==0.8.4 in /home/ilaria/anaconda3/lib/python3.7/site-packages (from -r requirements.txt (line 20)) (0.8.4)\n",
      "Requirement already satisfied: nbconvert==5.6.1 in /home/ilaria/anaconda3/lib/python3.7/site-packages (from -r requirements.txt (line 21)) (5.6.1)\n",
      "Requirement already satisfied: nbformat==5.0.6 in /home/ilaria/anaconda3/lib/python3.7/site-packages (from -r requirements.txt (line 22)) (5.0.6)\n",
      "Requirement already satisfied: notebook==6.0.3 in /home/ilaria/anaconda3/lib/python3.7/site-packages (from -r requirements.txt (line 23)) (6.0.3)\n",
      "Requirement already satisfied: pandocfilters==1.4.2 in /home/ilaria/anaconda3/lib/python3.7/site-packages (from -r requirements.txt (line 24)) (1.4.2)\n",
      "Requirement already satisfied: parso==0.7.0 in /home/ilaria/anaconda3/lib/python3.7/site-packages (from -r requirements.txt (line 25)) (0.7.0)\n",
      "Requirement already satisfied: pexpect==4.8.0 in /home/ilaria/anaconda3/lib/python3.7/site-packages (from -r requirements.txt (line 26)) (4.8.0)\n",
      "Requirement already satisfied: pickleshare==0.7.5 in /home/ilaria/anaconda3/lib/python3.7/site-packages (from -r requirements.txt (line 27)) (0.7.5)\n",
      "Requirement already satisfied: pipenv==2020.6.2 in /home/ilaria/.local/lib/python3.7/site-packages (from -r requirements.txt (line 28)) (2020.6.2)\n",
      "Requirement already satisfied: prometheus-client==0.7.1 in /home/ilaria/anaconda3/lib/python3.7/site-packages (from -r requirements.txt (line 29)) (0.7.1)\n",
      "Requirement already satisfied: prompt-toolkit==3.0.5 in /home/ilaria/anaconda3/lib/python3.7/site-packages (from -r requirements.txt (line 30)) (3.0.5)\n",
      "Requirement already satisfied: ptyprocess==0.6.0 in /home/ilaria/anaconda3/lib/python3.7/site-packages (from -r requirements.txt (line 31)) (0.6.0)\n",
      "Requirement already satisfied: Pygments==2.6.1 in /home/ilaria/anaconda3/lib/python3.7/site-packages (from -r requirements.txt (line 32)) (2.6.1)\n",
      "Requirement already satisfied: pyrsistent==0.16.0 in /home/ilaria/anaconda3/lib/python3.7/site-packages (from -r requirements.txt (line 33)) (0.16.0)\n",
      "Requirement already satisfied: python-dateutil==2.8.1 in /home/ilaria/anaconda3/lib/python3.7/site-packages (from -r requirements.txt (line 34)) (2.8.1)\n",
      "Requirement already satisfied: pyzmq==18.1.1 in /home/ilaria/anaconda3/lib/python3.7/site-packages (from -r requirements.txt (line 35)) (18.1.1)\n",
      "Requirement already satisfied: Send2Trash==1.5.0 in /home/ilaria/anaconda3/lib/python3.7/site-packages (from -r requirements.txt (line 36)) (1.5.0)\n",
      "Requirement already satisfied: six==1.15.0 in /home/ilaria/anaconda3/lib/python3.7/site-packages (from -r requirements.txt (line 37)) (1.15.0)\n",
      "Requirement already satisfied: terminado==0.8.3 in /home/ilaria/anaconda3/lib/python3.7/site-packages (from -r requirements.txt (line 38)) (0.8.3)\n",
      "Requirement already satisfied: testpath==0.4.4 in /home/ilaria/anaconda3/lib/python3.7/site-packages (from -r requirements.txt (line 39)) (0.4.4)\n",
      "Requirement already satisfied: tornado==6.0.4 in /home/ilaria/anaconda3/lib/python3.7/site-packages (from -r requirements.txt (line 40)) (6.0.4)\n",
      "Requirement already satisfied: traitlets==4.3.3 in /home/ilaria/anaconda3/lib/python3.7/site-packages (from -r requirements.txt (line 41)) (4.3.3)\n",
      "Requirement already satisfied: virtualenv==20.0.21 in /home/ilaria/.local/lib/python3.7/site-packages (from -r requirements.txt (line 42)) (20.0.21)\n",
      "Requirement already satisfied: virtualenv-clone==0.5.4 in /home/ilaria/.local/lib/python3.7/site-packages (from -r requirements.txt (line 43)) (0.5.4)\n",
      "Requirement already satisfied: wcwidth==0.1.9 in /home/ilaria/anaconda3/lib/python3.7/site-packages (from -r requirements.txt (line 44)) (0.1.9)\n",
      "Requirement already satisfied: webencodings==0.5.1 in /home/ilaria/anaconda3/lib/python3.7/site-packages (from -r requirements.txt (line 45)) (0.5.1)\n",
      "Requirement already satisfied: zipp==3.1.0 in /home/ilaria/anaconda3/lib/python3.7/site-packages (from -r requirements.txt (line 46)) (3.1.0)\n",
      "Requirement already satisfied: setuptools>=18.5 in /home/ilaria/anaconda3/lib/python3.7/site-packages (from ipython==7.13.0->-r requirements.txt (line 12)) (47.1.1)\n",
      "Requirement already satisfied: pip>=18.0 in /home/ilaria/anaconda3/lib/python3.7/site-packages (from pipenv==2020.6.2->-r requirements.txt (line 28)) (20.1.1)\n",
      "Requirement already satisfied: filelock<4,>=3.0.0 in /home/ilaria/anaconda3/lib/python3.7/site-packages (from virtualenv==20.0.21->-r requirements.txt (line 42)) (3.0.12)\n"
     ]
    }
   ],
   "source": [
    "!pip install -r requirements.txt"
   ]
  },
  {
   "cell_type": "code",
   "execution_count": 2,
   "metadata": {},
   "outputs": [],
   "source": [
    "import pandas as pd\n",
    "import matplotlib.pyplot as plt\n",
    "import seaborn as sns\n",
    "import numpy as np\n",
    "from sklearn.model_selection import train_test_split"
   ]
  },
  {
   "cell_type": "markdown",
   "metadata": {},
   "source": [
    "## STEP 1: Caricamento dati"
   ]
  },
  {
   "cell_type": "code",
   "execution_count": 3,
   "metadata": {},
   "outputs": [],
   "source": [
    "path_file = './appointment_data.csv'\n",
    "dataset = pd.read_csv(path_file)"
   ]
  },
  {
   "cell_type": "code",
   "execution_count": 4,
   "metadata": {
    "scrolled": true
   },
   "outputs": [
    {
     "data": {
      "text/html": [
       "<div>\n",
       "<style scoped>\n",
       "    .dataframe tbody tr th:only-of-type {\n",
       "        vertical-align: middle;\n",
       "    }\n",
       "\n",
       "    .dataframe tbody tr th {\n",
       "        vertical-align: top;\n",
       "    }\n",
       "\n",
       "    .dataframe thead th {\n",
       "        text-align: right;\n",
       "    }\n",
       "</style>\n",
       "<table border=\"1\" class=\"dataframe\">\n",
       "  <thead>\n",
       "    <tr style=\"text-align: right;\">\n",
       "      <th></th>\n",
       "      <th>No-show</th>\n",
       "      <th>PatientId</th>\n",
       "      <th>AppointmentID</th>\n",
       "      <th>Gender</th>\n",
       "      <th>ScheduledDay</th>\n",
       "      <th>AppointmentDay</th>\n",
       "      <th>Age</th>\n",
       "      <th>Neighbourhood</th>\n",
       "      <th>Scholarship</th>\n",
       "      <th>Hipertension</th>\n",
       "      <th>Diabetes</th>\n",
       "      <th>Alcoholism</th>\n",
       "      <th>Handcap</th>\n",
       "      <th>SMS_received</th>\n",
       "    </tr>\n",
       "  </thead>\n",
       "  <tbody>\n",
       "    <tr>\n",
       "      <th>0</th>\n",
       "      <td>No</td>\n",
       "      <td>1.328492e+12</td>\n",
       "      <td>5687610</td>\n",
       "      <td>F</td>\n",
       "      <td>2016-05-11T16:00:16Z</td>\n",
       "      <td>2016-05-19T00:00:00Z</td>\n",
       "      <td>25</td>\n",
       "      <td>MATA DA PRAIA</td>\n",
       "      <td>0</td>\n",
       "      <td>0</td>\n",
       "      <td>0</td>\n",
       "      <td>0</td>\n",
       "      <td>0</td>\n",
       "      <td>0</td>\n",
       "    </tr>\n",
       "    <tr>\n",
       "      <th>1</th>\n",
       "      <td>No</td>\n",
       "      <td>3.881869e+14</td>\n",
       "      <td>5694484</td>\n",
       "      <td>M</td>\n",
       "      <td>2016-05-13T08:41:27Z</td>\n",
       "      <td>2016-05-17T00:00:00Z</td>\n",
       "      <td>62</td>\n",
       "      <td>FRADINHOS</td>\n",
       "      <td>0</td>\n",
       "      <td>0</td>\n",
       "      <td>0</td>\n",
       "      <td>0</td>\n",
       "      <td>0</td>\n",
       "      <td>0</td>\n",
       "    </tr>\n",
       "    <tr>\n",
       "      <th>2</th>\n",
       "      <td>Yes</td>\n",
       "      <td>9.118992e+12</td>\n",
       "      <td>5500939</td>\n",
       "      <td>F</td>\n",
       "      <td>2016-03-22T11:09:38Z</td>\n",
       "      <td>2016-05-09T00:00:00Z</td>\n",
       "      <td>65</td>\n",
       "      <td>JARDIM CAMBURI</td>\n",
       "      <td>0</td>\n",
       "      <td>0</td>\n",
       "      <td>0</td>\n",
       "      <td>0</td>\n",
       "      <td>0</td>\n",
       "      <td>0</td>\n",
       "    </tr>\n",
       "    <tr>\n",
       "      <th>3</th>\n",
       "      <td>No</td>\n",
       "      <td>1.843618e+14</td>\n",
       "      <td>5639080</td>\n",
       "      <td>M</td>\n",
       "      <td>2016-04-29T08:42:15Z</td>\n",
       "      <td>2016-04-29T00:00:00Z</td>\n",
       "      <td>41</td>\n",
       "      <td>MARIA ORTIZ</td>\n",
       "      <td>0</td>\n",
       "      <td>0</td>\n",
       "      <td>0</td>\n",
       "      <td>0</td>\n",
       "      <td>0</td>\n",
       "      <td>0</td>\n",
       "    </tr>\n",
       "    <tr>\n",
       "      <th>4</th>\n",
       "      <td>No</td>\n",
       "      <td>5.783198e+13</td>\n",
       "      <td>5671566</td>\n",
       "      <td>M</td>\n",
       "      <td>2016-05-06T18:47:52Z</td>\n",
       "      <td>2016-05-09T00:00:00Z</td>\n",
       "      <td>61</td>\n",
       "      <td>MARUÍPE</td>\n",
       "      <td>0</td>\n",
       "      <td>1</td>\n",
       "      <td>0</td>\n",
       "      <td>1</td>\n",
       "      <td>0</td>\n",
       "      <td>0</td>\n",
       "    </tr>\n",
       "  </tbody>\n",
       "</table>\n",
       "</div>"
      ],
      "text/plain": [
       "  No-show     PatientId  AppointmentID Gender          ScheduledDay  \\\n",
       "0      No  1.328492e+12        5687610      F  2016-05-11T16:00:16Z   \n",
       "1      No  3.881869e+14        5694484      M  2016-05-13T08:41:27Z   \n",
       "2     Yes  9.118992e+12        5500939      F  2016-03-22T11:09:38Z   \n",
       "3      No  1.843618e+14        5639080      M  2016-04-29T08:42:15Z   \n",
       "4      No  5.783198e+13        5671566      M  2016-05-06T18:47:52Z   \n",
       "\n",
       "         AppointmentDay  Age   Neighbourhood  Scholarship  Hipertension  \\\n",
       "0  2016-05-19T00:00:00Z   25   MATA DA PRAIA            0             0   \n",
       "1  2016-05-17T00:00:00Z   62       FRADINHOS            0             0   \n",
       "2  2016-05-09T00:00:00Z   65  JARDIM CAMBURI            0             0   \n",
       "3  2016-04-29T00:00:00Z   41     MARIA ORTIZ            0             0   \n",
       "4  2016-05-09T00:00:00Z   61         MARUÍPE            0             1   \n",
       "\n",
       "   Diabetes  Alcoholism  Handcap  SMS_received  \n",
       "0         0           0        0             0  \n",
       "1         0           0        0             0  \n",
       "2         0           0        0             0  \n",
       "3         0           0        0             0  \n",
       "4         0           1        0             0  "
      ]
     },
     "execution_count": 4,
     "metadata": {},
     "output_type": "execute_result"
    }
   ],
   "source": [
    "dataset.head()"
   ]
  },
  {
   "cell_type": "markdown",
   "metadata": {},
   "source": [
    "### 1.1 Faccio una copia del dataset e lavoro su questa"
   ]
  },
  {
   "cell_type": "code",
   "execution_count": 5,
   "metadata": {},
   "outputs": [],
   "source": [
    "data = dataset.copy()"
   ]
  },
  {
   "cell_type": "markdown",
   "metadata": {},
   "source": [
    "## STEP 2: Split dei file"
   ]
  },
  {
   "cell_type": "code",
   "execution_count": 6,
   "metadata": {},
   "outputs": [],
   "source": [
    "y = data['No-show']\n",
    "X = data.drop(['No-show'], axis = 1, inplace = False)\n",
    "X_train, X_test, y_train, y_test = train_test_split(X, y, train_size = 0.8, test_size = 0.2, random_state = 1)"
   ]
  },
  {
   "cell_type": "markdown",
   "metadata": {},
   "source": [
    "## STEP 3: Creazione dei due file *.csv* richiesti"
   ]
  },
  {
   "cell_type": "markdown",
   "metadata": {},
   "source": [
    "### 3.1 creazione dei due dataset (training e test) mediante concat del target con le restanti colonne"
   ]
  },
  {
   "cell_type": "code",
   "execution_count": 7,
   "metadata": {},
   "outputs": [],
   "source": [
    "training = pd.concat([X_train, y_train], axis = 1)\n",
    "test = pd.concat([X_test, y_test], axis = 1)"
   ]
  },
  {
   "cell_type": "markdown",
   "metadata": {},
   "source": [
    "### 3.2 export dei dataset nei due file *.csv*"
   ]
  },
  {
   "cell_type": "code",
   "execution_count": 8,
   "metadata": {},
   "outputs": [],
   "source": [
    "training.to_csv('./train.csv', index = False)\n",
    "test.to_csv('./test.csv', index = False)"
   ]
  },
  {
   "cell_type": "code",
   "execution_count": null,
   "metadata": {},
   "outputs": [],
   "source": []
  }
 ],
 "metadata": {
  "kernelspec": {
   "display_name": "Python 3",
   "language": "python",
   "name": "python3"
  },
  "language_info": {
   "codemirror_mode": {
    "name": "ipython",
    "version": 3
   },
   "file_extension": ".py",
   "mimetype": "text/x-python",
   "name": "python",
   "nbconvert_exporter": "python",
   "pygments_lexer": "ipython3",
   "version": "3.7.6"
  }
 },
 "nbformat": 4,
 "nbformat_minor": 4
}
